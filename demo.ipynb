{
 "cells": [
  {
   "cell_type": "markdown",
   "id": "40e79f13-99b7-487d-ba36-f56dc8fc1e94",
   "metadata": {},
   "source": [
    "Title & Description: \n",
    "Building A lightweight U-Net for brain tumor segmentation (using BraTS dataset) under limited GPU resources, and comparing performance (Dice score + qualitative results) to the BraTS 2020 nnU-Net winner (DKFZ_MIC)."
   ]
  },
  {
   "cell_type": "markdown",
   "id": "823bee6a-8143-4dd7-b0c6-c663ea9b8833",
   "metadata": {},
   "source": [
    "Imports & Setup"
   ]
  },
  {
   "cell_type": "code",
   "execution_count": 49,
   "id": "7dffab13-9b94-4af7-80bf-752cd75e443c",
   "metadata": {},
   "outputs": [
    {
     "name": "stdout",
     "output_type": "stream",
     "text": [
      "Using device: cuda\n"
     ]
    }
   ],
   "source": [
    "import os\n",
    "import numpy as np\n",
    "import torch\n",
    "import torch.nn as nn\n",
    "import torch.optim as optim\n",
    "from torch.utils.data import DataLoader\n",
    "import matplotlib.pyplot as plt\n",
    "\n",
    "#Getting helper scripts <-- to be created\n",
    "# from utils.unet import UNet\n",
    "# from utils.data_loader import BraTSDataset \n",
    "# from utils.metrics import dice_score, etc\n",
    "\n",
    "# Device setup\n",
    "device = torch.device(\"cuda\" if torch.cuda.is_available() else \"cpu\")\n",
    "print(\"Using device:\", device)\n",
    "\n",
    "# Paths\n",
    "RAW_DATA_PATH = \"data/raw/\"\n",
    "PROCESSED_DATA_PATH = \"data/processed/\"\n",
    "MODELS_PATH = \"models/\"\n",
    "RESULTS_PATH = \"results/\""
   ]
  },
  {
   "cell_type": "code",
   "execution_count": null,
   "id": "ee80d7d2-7382-4126-bcd7-6818e159707a",
   "metadata": {},
   "outputs": [],
   "source": []
  },
  {
   "cell_type": "markdown",
   "id": "8704b656-fe95-4a49-8c83-ed5ca87582b1",
   "metadata": {},
   "source": [
    "Dataset Preprocessing"
   ]
  },
  {
   "cell_type": "code",
   "execution_count": null,
   "id": "cbab34e8-8b8c-4598-ada2-d3e77e5c0297",
   "metadata": {},
   "outputs": [],
   "source": []
  },
  {
   "cell_type": "code",
   "execution_count": null,
   "id": "51b3b676-e7e0-4773-bcc1-bee4d43ec62b",
   "metadata": {},
   "outputs": [],
   "source": []
  },
  {
   "cell_type": "markdown",
   "id": "4f8d2368-c6f2-4f3d-8810-84d7d161c963",
   "metadata": {},
   "source": [
    "Baseline U-Net Setup"
   ]
  },
  {
   "cell_type": "code",
   "execution_count": null,
   "id": "c0aa150b-764d-48df-b150-4f2c41b8366a",
   "metadata": {},
   "outputs": [],
   "source": []
  },
  {
   "cell_type": "code",
   "execution_count": null,
   "id": "2f212734-dbad-4fcb-8446-90a05d8943e5",
   "metadata": {},
   "outputs": [],
   "source": []
  },
  {
   "cell_type": "markdown",
   "id": "dd3f04eb-38b5-4e09-950f-13b0bc545ad9",
   "metadata": {},
   "source": [
    "Training Loop (Baseline)"
   ]
  },
  {
   "cell_type": "code",
   "execution_count": null,
   "id": "32090fb7-e6f6-4a45-8405-38cd646f6bf0",
   "metadata": {},
   "outputs": [],
   "source": []
  },
  {
   "cell_type": "code",
   "execution_count": null,
   "id": "0e981878-66ac-475d-9e2d-b1150cd94fb5",
   "metadata": {},
   "outputs": [],
   "source": []
  },
  {
   "cell_type": "markdown",
   "id": "dcb79480-20a9-459a-8c2a-66fcd2bc88b7",
   "metadata": {},
   "source": [
    "Evaluation (Baseline)"
   ]
  },
  {
   "cell_type": "code",
   "execution_count": null,
   "id": "461b3656-9537-4140-a441-502a0505a86f",
   "metadata": {},
   "outputs": [],
   "source": []
  },
  {
   "cell_type": "code",
   "execution_count": null,
   "id": "227876bd-b30a-48e4-9dc6-b53052ac75b5",
   "metadata": {},
   "outputs": [],
   "source": []
  },
  {
   "cell_type": "markdown",
   "id": "1d29c3cd-cef9-4087-958e-10dbf33036f1",
   "metadata": {},
   "source": [
    "Optimized U-Net Setup"
   ]
  },
  {
   "cell_type": "code",
   "execution_count": null,
   "id": "1022e25a-7966-4a29-bd14-8c9dec9b468f",
   "metadata": {},
   "outputs": [],
   "source": []
  },
  {
   "cell_type": "code",
   "execution_count": null,
   "id": "2f93c0ba-b66e-417a-a550-dcfabbbf1012",
   "metadata": {},
   "outputs": [],
   "source": []
  },
  {
   "cell_type": "markdown",
   "id": "b8d547c7-c3a3-4163-9325-c5be85dc8888",
   "metadata": {},
   "source": [
    "Training Loop (Optimized)"
   ]
  },
  {
   "cell_type": "code",
   "execution_count": null,
   "id": "cc238792-d64d-4f00-8e4e-b7db931eba9c",
   "metadata": {},
   "outputs": [],
   "source": []
  },
  {
   "cell_type": "code",
   "execution_count": null,
   "id": "f8e34569-97c1-4c9e-8114-1658a6b7741d",
   "metadata": {},
   "outputs": [],
   "source": []
  },
  {
   "cell_type": "markdown",
   "id": "d7049a33-aa9b-4eb7-8126-daea22e59d2d",
   "metadata": {},
   "source": [
    "Evaluation (Optimized)"
   ]
  },
  {
   "cell_type": "code",
   "execution_count": null,
   "id": "def3e55e-594d-4763-bb1c-6c2925f9aced",
   "metadata": {},
   "outputs": [],
   "source": []
  },
  {
   "cell_type": "code",
   "execution_count": null,
   "id": "74052b1d-0a5e-4e3b-9cae-6c57f33923e0",
   "metadata": {},
   "outputs": [],
   "source": []
  },
  {
   "cell_type": "markdown",
   "id": "64aa81fc-c13c-48ba-9d9d-30d911d9e374",
   "metadata": {},
   "source": [
    "Comparison & Visualization"
   ]
  },
  {
   "cell_type": "code",
   "execution_count": null,
   "id": "6592f97a-c21a-46c1-971d-963533b8e05a",
   "metadata": {},
   "outputs": [],
   "source": []
  },
  {
   "cell_type": "code",
   "execution_count": null,
   "id": "c30b6824-fadf-4496-b925-b282d63a82e3",
   "metadata": {},
   "outputs": [],
   "source": []
  },
  {
   "cell_type": "markdown",
   "id": "3f0e7581-d777-4541-81b1-de87aa429f81",
   "metadata": {},
   "source": [
    "Conclusion"
   ]
  },
  {
   "cell_type": "code",
   "execution_count": null,
   "id": "9bff8f4b-32cb-457e-9c28-d1a8740901fb",
   "metadata": {},
   "outputs": [],
   "source": []
  },
  {
   "cell_type": "code",
   "execution_count": null,
   "id": "14dac53e-7ae1-4f9b-b4c6-49d96b1afdbd",
   "metadata": {},
   "outputs": [],
   "source": []
  },
  {
   "cell_type": "code",
   "execution_count": null,
   "id": "4207c2f2-9af8-4365-915f-b01efc51de7b",
   "metadata": {},
   "outputs": [],
   "source": []
  },
  {
   "cell_type": "code",
   "execution_count": null,
   "id": "a16b525e-810a-4fe3-8817-d33628ab8a87",
   "metadata": {},
   "outputs": [],
   "source": []
  }
 ],
 "metadata": {
  "kernelspec": {
   "display_name": "Python 3 (ipykernel)",
   "language": "python",
   "name": "python3"
  },
  "language_info": {
   "codemirror_mode": {
    "name": "ipython",
    "version": 3
   },
   "file_extension": ".py",
   "mimetype": "text/x-python",
   "name": "python",
   "nbconvert_exporter": "python",
   "pygments_lexer": "ipython3",
   "version": "3.12.4"
  }
 },
 "nbformat": 4,
 "nbformat_minor": 5
}
